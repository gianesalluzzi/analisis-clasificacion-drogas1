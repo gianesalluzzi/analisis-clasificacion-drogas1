{
 "cells": [
  {
   "cell_type": "code",
   "execution_count": null,
   "id": "455019bf-1761-42ff-96c9-defa6d64e130",
   "metadata": {},
   "outputs": [],
   "source": [
    "import sklearn"
   ]
  }
 ],
 "metadata": {
  "kernelspec": {
   "display_name": "Python 3",
   "language": "python",
   "name": "python3"
  },
  "language_info": {
   "codemirror_mode": {
    "name": "ipython",
    "version": 3
   },
   "file_extension": ".py",
   "mimetype": "text/x-python",
   "name": "python",
   "nbconvert_exporter": "python",
   "pygments_lexer": "ipython3",
   "version": "3.10.9 (tags/v3.10.9:1dd9be6, Dec  6 2022, 20:01:21) [MSC v.1934 64 bit (AMD64)]"
  },
  "vscode": {
   "interpreter": {
    "hash": "88beeed94eff51aa677edbfcd6ac21c813cc8fa84f7681915a733fb76f4ad8f0"
   }
  }
 },
 "nbformat": 4,
 "nbformat_minor": 5
}
