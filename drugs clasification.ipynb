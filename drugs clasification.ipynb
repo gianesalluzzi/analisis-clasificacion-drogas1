{
 "cells": [
  {
   "cell_type": "code",
   "execution_count": null,
   "id": "6d4a3bab-1895-495d-86a9-0bd4627f3d1f",
   "metadata": {},
   "outputs": [],
   "source": [
    "import numpy as np\n",
    "import pandas as pd\n",
    "\n",
    "# comentario"
   ]
  },
  {
   "cell_type": "code",
   "execution_count": null,
   "id": "efcaaeee-c956-4021-98e2-01904c4d757f",
   "metadata": {},
   "outputs": [],
   "source": []
  }
 ],
 "metadata": {
  "kernelspec": {
   "display_name": "Python 3 (ipykernel)",
   "language": "python",
   "name": "python3"
  },
  "language_info": {
   "codemirror_mode": {
    "name": "ipython",
    "version": 3
   },
   "file_extension": ".py",
   "mimetype": "text/x-python",
   "name": "python",
   "nbconvert_exporter": "python",
   "pygments_lexer": "ipython3",
   "version": "3.8.8"
  }
 },
 "nbformat": 4,
 "nbformat_minor": 5
}
